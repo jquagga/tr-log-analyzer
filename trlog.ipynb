{
 "cells": [
  {
   "cell_type": "markdown",
   "id": "b01490cd",
   "metadata": {
    "lines_to_next_cell": 2
   },
   "source": [
    "# Preparing your log file\n",
    "You should be able to use your saved logfile, however if you have colorized log output from trunk-recorder, you'll need to use asci2txt from `colorized-logs` to strip those codes out.\n",
    "\n",
    "* docker logs trunk-recorder 2> tr.log\n",
    "* ansi2txt < tr.log > tr.log.log\n",
    "* gzip tr.log"
   ]
  },
  {
   "cell_type": "code",
   "execution_count": 231,
   "id": "50f92ecd",
   "metadata": {},
   "outputs": [],
   "source": [
    "import datetime\n",
    "import gzip\n",
    "import re\n",
    "import pandas as pd\n",
    "\n",
    "logfile = gzip.open(\"tr.log.gz\", \"rt\")\n",
    "calldict = {}\n",
    "# Define the regex pattern for our log entries\n",
    "# line = \"[2024-05-09 12:31:45.009426] (info)   [pwcp25]\t126C\tTG:       1007 (            PWPD West 1)\tFreq: 851.962500 MHz\tConcluding Recorded Call - Last Update: 4s\tRecorder last write:4.72949\tCall Elapsed: 12\"\n",
    "# log_pattern = r\".*\\[(\\S+\\s\\S+)\\]\\s+\\((\\S+)\\)\\s+\\[(\\S+)\\]\\s+(\\d+).*TG:.*\\((.*)\\).*Freq:\\s+(\\d+\\.\\d+).*MHz\\s+(.*)\"\n",
    "log_pattern = r\".*\\[(\\S+\\s\\S+)\\]\\s+\\((\\S+)\\)\\s+\\[(\\S+)\\]\\s+(\\d+)\\S+\\s+\\S+\\s+(\\d+).*Freq:\\s+(\\d+\\.\\d+).*MHz\\s+(.*)\"\n",
    "# If you DO NOT have \"talkgroupDisplayFormat\": \"id_tag\" set, you can change the log_pattern to this below to grab the numeric\n",
    "# talkgroup numbers:\n",
    "# log_pattern = r\".*\\[(\\S+\\s\\S+)\\]\\s+\\((\\S+)\\)\\s+\\[(\\S+)\\]\\s+(\\d+)\\S+\\s+\\S+\\s+(\\d+).*Freq:\\s+(\\d+\\.\\d+).*MHz\\s+(.*)\"\n",
    "for line in logfile:\n",
    "    # line = \"2024-05-09T12:23:26.007469771Z [2024-05-09 12:23:26.005761] (info)   [pwcp25]\t16C\tTG:       2003 (                PWFD 5B)\tFreq: 851.725000 MHz\tConcluding Recorded Call - Last Update: 4s\tRecorder last write:4.79871\tCall Elapsed: 13\"\n",
    "    if match := re.match(log_pattern, line):\n",
    "        calldata = match[7]\n",
    "        # Technically this isn't a real unixtimestamp as it's not timezone aware,\n",
    "        # but we're just using it to create a unique index identifier.\n",
    "        calldate = datetime.datetime.strptime(match[1], \"%Y-%m-%d %H:%M:%S.%f\")\n",
    "        callts = calldate.timestamp()\n",
    "        # Index for the dict is timestamp(ish)-talkgroup\n",
    "        callindex = f\"{int(callts)}{int(match[5].strip())}\"\n",
    "\n",
    "        # Second round of regexp.  Now we are going to harvest data from calldata - the \"everything else\"\n",
    "        regexp_dict = {\n",
    "            \"excluded\": r\".*(Not recording talkgroup.).*\",\n",
    "            \"encrypted\": r\".*(Not Recording: ENCRYPTED).*\",\n",
    "            \"unknown_tg\": r\".*(TG not in Talkgroup File).*\",\n",
    "            \"no_source\": r\".*(no source covering Freq).*\",\n",
    "            \"standard\": r\".*Call Elapsed:\\s+(\\d+)\",\n",
    "        }\n",
    "        for callclass, data_pattern in regexp_dict.items():\n",
    "            if datamatch := re.match(data_pattern, calldata):\n",
    "                calldict[callindex] = {\"callclass\": callclass}\n",
    "                if callclass == \"standard\":\n",
    "                    calldict[callindex] = {\"duration\": int(datamatch[1])}\n",
    "                    # This log event happens at the end of a call, so we should adjust the calltime\n",
    "                    # back by duration seconds to get to the start.\n",
    "                    calldate = calldate + datetime.timedelta(seconds=-int(datamatch[1]))\n",
    "                calldict[callindex].update(\n",
    "                    {\n",
    "                        \"calldate\": str(calldate),\n",
    "                        \"loglevel\": str(match[2]),\n",
    "                        \"system\": str(match[3]),\n",
    "                        \"callnumber\": int(match[4]),\n",
    "                        \"talkgroup\": int(match[5].strip()),\n",
    "                        \"frequency\": float(match[6]),\n",
    "                    }\n",
    "                )\n",
    "logfile.close()\n",
    "\n",
    "calldf = pd.DataFrame.from_dict(calldict, orient=\"index\")\n",
    "# Technically this shouldn't be needed.  The dict construction _should_ set the class\n",
    "# but for some reason it skips setting standard.  It does set duration though so that part of\n",
    "# of the loop works.  This workaround sets the class to standard if there is a duration.\n",
    "calldf.loc[calldf[\"duration\"].notna(), \"callclass\"] = \"standard\"\n",
    "\n",
    "# We're going to use ChanList.csv if we have it to convert decimal talkgroups to their\n",
    "# Alpha Longform.  While this could be in the original log line, we do it here to take care\n",
    "# of logs which might not have that enabled AND it allows us to see the number value of \"unlisted\" tg.\n",
    "try:\n",
    "    chanlist = pd.read_csv(\"ChanList.csv\")\n",
    "    calldf = pd.merge(\n",
    "        left=calldf,\n",
    "        right=chanlist,\n",
    "        left_on=\"talkgroup\",\n",
    "        right_on=\"Decimal\",\n",
    "        how=\"left\",\n",
    "    )\n",
    "    # Talkgroup was an int for matching; now it becomes a string\n",
    "    calldf[[\"talkgroup\"]] = calldf[[\"talkgroup\"]].astype(\"str\")\n",
    "    # And now we merge in the Alpha Tag to talkgroups defined.  Undefined keep their\n",
    "    # numeric value\n",
    "    calldf.loc[calldf[\"Alpha Tag\"].notna(), \"talkgroup\"] = calldf[\"Alpha Tag\"]\n",
    "except Exception:\n",
    "    print(\"We couldn't open ChanList so talkgroups will remain numeric.\")\n",
    "# Finally, either way let's sort the columns in the dataframe and dump the extra columns\n",
    "# from the ChanList merge\n",
    "calldf = calldf.filter(\n",
    "    [\n",
    "        \"calldate\",\n",
    "        \"loglevel\",\n",
    "        \"system\",\n",
    "        \"callnumber\",\n",
    "        \"callclass\",\n",
    "        \"talkgroup\",\n",
    "        \"frequency\",\n",
    "        \"duration\",\n",
    "    ],\n",
    "    axis=1,\n",
    ")\n",
    "calldf.sort_values(by=\"calldate\", inplace=True)"
   ]
  },
  {
   "cell_type": "code",
   "execution_count": 232,
   "id": "33da2947-1e73-4b58-bf38-a79b5fe3264b",
   "metadata": {},
   "outputs": [
    {
     "data": {
      "text/html": [
       "<style type=\"text/css\">\n",
       "</style>\n",
       "<table id=\"T_1fddf\">\n",
       "  <thead>\n",
       "    <tr>\n",
       "      <th id=\"T_1fddf_level0_col0\" class=\"col_heading level0 col0\" >calldate</th>\n",
       "      <th id=\"T_1fddf_level0_col1\" class=\"col_heading level0 col1\" >loglevel</th>\n",
       "      <th id=\"T_1fddf_level0_col2\" class=\"col_heading level0 col2\" >system</th>\n",
       "      <th id=\"T_1fddf_level0_col3\" class=\"col_heading level0 col3\" >callnumber</th>\n",
       "      <th id=\"T_1fddf_level0_col4\" class=\"col_heading level0 col4\" >callclass</th>\n",
       "      <th id=\"T_1fddf_level0_col5\" class=\"col_heading level0 col5\" >talkgroup</th>\n",
       "      <th id=\"T_1fddf_level0_col6\" class=\"col_heading level0 col6\" >frequency</th>\n",
       "      <th id=\"T_1fddf_level0_col7\" class=\"col_heading level0 col7\" >duration</th>\n",
       "    </tr>\n",
       "  </thead>\n",
       "  <tbody>\n",
       "    <tr>\n",
       "      <td id=\"T_1fddf_row0_col0\" class=\"data row0 col0\" >2024-05-09 12:22:31.005216</td>\n",
       "      <td id=\"T_1fddf_row0_col1\" class=\"data row0 col1\" >info</td>\n",
       "      <td id=\"T_1fddf_row0_col2\" class=\"data row0 col2\" >pwcp25</td>\n",
       "      <td id=\"T_1fddf_row0_col3\" class=\"data row0 col3\" >1</td>\n",
       "      <td id=\"T_1fddf_row0_col4\" class=\"data row0 col4\" >standard</td>\n",
       "      <td id=\"T_1fddf_row0_col5\" class=\"data row0 col5\" >PWFD 5B</td>\n",
       "      <td id=\"T_1fddf_row0_col6\" class=\"data row0 col6\" >851.962500</td>\n",
       "      <td id=\"T_1fddf_row0_col7\" class=\"data row0 col7\" >7.000000</td>\n",
       "    </tr>\n",
       "    <tr>\n",
       "      <td id=\"T_1fddf_row1_col0\" class=\"data row1 col0\" >2024-05-09 12:22:31.009743</td>\n",
       "      <td id=\"T_1fddf_row1_col1\" class=\"data row1 col1\" >info</td>\n",
       "      <td id=\"T_1fddf_row1_col2\" class=\"data row1 col2\" >pwcp25</td>\n",
       "      <td id=\"T_1fddf_row1_col3\" class=\"data row1 col3\" >2</td>\n",
       "      <td id=\"T_1fddf_row1_col4\" class=\"data row1 col4\" >standard</td>\n",
       "      <td id=\"T_1fddf_row1_col5\" class=\"data row1 col5\" >PWPD Central 1</td>\n",
       "      <td id=\"T_1fddf_row1_col6\" class=\"data row1 col6\" >852.900000</td>\n",
       "      <td id=\"T_1fddf_row1_col7\" class=\"data row1 col7\" >25.000000</td>\n",
       "    </tr>\n",
       "    <tr>\n",
       "      <td id=\"T_1fddf_row2_col0\" class=\"data row2 col0\" >2024-05-09 12:22:31.574226</td>\n",
       "      <td id=\"T_1fddf_row2_col1\" class=\"data row2 col1\" >error</td>\n",
       "      <td id=\"T_1fddf_row2_col2\" class=\"data row2 col2\" >pwcp25</td>\n",
       "      <td id=\"T_1fddf_row2_col3\" class=\"data row2 col3\" >0</td>\n",
       "      <td id=\"T_1fddf_row2_col4\" class=\"data row2 col4\" >no_source</td>\n",
       "      <td id=\"T_1fddf_row2_col5\" class=\"data row2 col5\" >PWPD Central 1</td>\n",
       "      <td id=\"T_1fddf_row2_col6\" class=\"data row2 col6\" >0.000000</td>\n",
       "      <td id=\"T_1fddf_row2_col7\" class=\"data row2 col7\" >nan</td>\n",
       "    </tr>\n",
       "    <tr>\n",
       "      <td id=\"T_1fddf_row3_col0\" class=\"data row3 col0\" >2024-05-09 12:22:33.317803</td>\n",
       "      <td id=\"T_1fddf_row3_col1\" class=\"data row3 col1\" >info</td>\n",
       "      <td id=\"T_1fddf_row3_col2\" class=\"data row3 col2\" >pwcp25</td>\n",
       "      <td id=\"T_1fddf_row3_col3\" class=\"data row3 col3\" >3</td>\n",
       "      <td id=\"T_1fddf_row3_col4\" class=\"data row3 col4\" >excluded</td>\n",
       "      <td id=\"T_1fddf_row3_col5\" class=\"data row3 col5\" >PWSchBus W</td>\n",
       "      <td id=\"T_1fddf_row3_col6\" class=\"data row3 col6\" >852.725000</td>\n",
       "      <td id=\"T_1fddf_row3_col7\" class=\"data row3 col7\" >nan</td>\n",
       "    </tr>\n",
       "    <tr>\n",
       "      <td id=\"T_1fddf_row4_col0\" class=\"data row4 col0\" >2024-05-09 12:22:35.007133</td>\n",
       "      <td id=\"T_1fddf_row4_col1\" class=\"data row4 col1\" >info</td>\n",
       "      <td id=\"T_1fddf_row4_col2\" class=\"data row4 col2\" >pwcp25</td>\n",
       "      <td id=\"T_1fddf_row4_col3\" class=\"data row4 col3\" >4</td>\n",
       "      <td id=\"T_1fddf_row4_col4\" class=\"data row4 col4\" >standard</td>\n",
       "      <td id=\"T_1fddf_row4_col5\" class=\"data row4 col5\" >PWFD 5B</td>\n",
       "      <td id=\"T_1fddf_row4_col6\" class=\"data row4 col6\" >852.787500</td>\n",
       "      <td id=\"T_1fddf_row4_col7\" class=\"data row4 col7\" >14.000000</td>\n",
       "    </tr>\n",
       "  </tbody>\n",
       "</table>\n"
      ],
      "text/plain": [
       "<pandas.io.formats.style.Styler at 0x7f2b542b68a0>"
      ]
     },
     "metadata": {},
     "output_type": "display_data"
    }
   ],
   "source": [
    "import matplotlib.pyplot as plt\n",
    "import numpy as np\n",
    "\n",
    "# pd.set_option(\"display.max_rows\", 999)\n",
    "# pd.set_option(\"display.precision\", 5)\n",
    "display(calldf.head().style.hide(axis=\"index\"))"
   ]
  },
  {
   "cell_type": "code",
   "execution_count": 251,
   "id": "18e0d43e-e4af-4673-ba99-4e493aa169c2",
   "metadata": {},
   "outputs": [
    {
     "data": {
      "text/plain": [
       "'The Total Number of Calls is: 12705'"
      ]
     },
     "metadata": {},
     "output_type": "display_data"
    },
    {
     "data": {
      "text/plain": [
       "'Of those:'"
      ]
     },
     "metadata": {},
     "output_type": "display_data"
    },
    {
     "data": {
      "text/plain": [
       "'4973 were excluded, likely due to the talkgroup being excluded'"
      ]
     },
     "metadata": {},
     "output_type": "display_data"
    },
    {
     "data": {
      "text/plain": [
       "'1325 were encrypted and not recorded'"
      ]
     },
     "metadata": {},
     "output_type": "display_data"
    },
    {
     "data": {
      "text/plain": [
       "'1512 were in an unknown talkgroup and were recorded or not based on your settings'"
      ]
     },
     "metadata": {},
     "output_type": "display_data"
    },
    {
     "data": {
      "text/plain": [
       "'12 had no source covering the frequency'"
      ]
     },
     "metadata": {},
     "output_type": "display_data"
    },
    {
     "data": {
      "text/plain": [
       "'The Average Call Duration is: 13.21 seconds'"
      ]
     },
     "metadata": {},
     "output_type": "display_data"
    }
   ],
   "source": [
    "total_call_count = calldf.shape[0]\n",
    "\n",
    "excludeddf = calldf[calldf[\"callclass\"] == \"excluded\"]\n",
    "excluded_call_count = excludeddf[\"callclass\"].shape[0]\n",
    "\n",
    "encrypteddf = calldf[calldf[\"callclass\"] == \"encrypted\"]\n",
    "encrypted_call_count = encrypteddf[\"callclass\"].shape[0]\n",
    "\n",
    "unknowndf = calldf[calldf[\"callclass\"] == \"unknown_tg\"]\n",
    "unknown_talkgroup_count = unknowndf[\"callclass\"].shape[0]\n",
    "\n",
    "nosourcedf = calldf[calldf[\"callclass\"] == \"no_source\"]\n",
    "no_source_count = nosourcedf[\"callclass\"].shape[0]\n",
    "\n",
    "\n",
    "# encrypted_call_count = calldf.query(\"callclass\" == \"encrypted\").shape[0]\n",
    "# unknown_talkgroup_count = calldf.query(\"callclass\" == \"unknown_tg\").shape[0]\n",
    "call_duration_count = calldf[\"duration\"].notnull().sum()\n",
    "\n",
    "average_call_duration = calldf[\"duration\"].mean()\n",
    "average_call_duration = np.round(average_call_duration, 2)\n",
    "\n",
    "display(f\"The Total Number of Calls is: {total_call_count}\")\n",
    "display(\"Of those:\")\n",
    "display(f\"{excluded_call_count} were excluded, likely due to the talkgroup being excluded\")\n",
    "display(f\"{encrypted_call_count} were encrypted and not recorded\")\n",
    "display(f\"{unknown_talkgroup_count} were in an unknown talkgroup and were recorded or not based on your settings\")\n",
    "display(f\"{no_source_count } had no source covering the frequency\")\n",
    "\n",
    "display(f\"The Average Call Duration is: {average_call_duration} seconds\")\n",
    "\n",
    "# Graph time!\n",
    "# callcounts = [\n",
    "#     excluded_call_count,\n",
    "#     encrypted_call_count,\n",
    "#     unknown_talkgroup_count,\n",
    "#     call_duration_count,\n",
    "# ]\n",
    "# callcategories = (\"Excluded\", \"Encrypted\", \"Unknown Talkgroup\", \"Recorded\")\n",
    "# y_pos = np.arange(len(callcategories))\n",
    "# bar_colors = [\"chocolate\", \"firebrick\", \"lavender\", \"forestgreen\"]\n",
    "# # Create bars\n",
    "# p = plt.bar(y_pos, callcounts, color=bar_colors)\n",
    "# plt.bar_label(p)  # This puts the number on the top of each bar\n",
    "# plt.title(\"Call Outcome\")\n",
    "# # Create names on the x-axis\n",
    "# plt.xticks(y_pos, callcategories)\n",
    "# # Show graphic\n",
    "# plt.show()"
   ]
  },
  {
   "cell_type": "code",
   "execution_count": 252,
   "id": "70dcf4a6-3dd6-4f38-b98f-c1cbedf0a1ad",
   "metadata": {},
   "outputs": [
    {
     "data": {
      "text/plain": [
       "frequency\n",
       "851.4750    1965\n",
       "852.7250    1912\n",
       "851.4500    1857\n",
       "853.1750    1087\n",
       "851.7000    1035\n",
       "851.7250    1024\n",
       "852.9000    1013\n",
       "851.9875     954\n",
       "852.7875     925\n",
       "851.9625     905\n",
       "851.1750      19\n",
       "853.9500       5\n",
       "853.6250       3\n",
       "Name: count, dtype: int64"
      ]
     },
     "metadata": {},
     "output_type": "display_data"
    }
   ],
   "source": [
    "# Filter out the 0 frequency listings common when trunk-recorder first starts up.\n",
    "frequencydf = calldf[calldf[\"frequency\"] != 0]\n",
    "frequency_counts = frequencydf[\"frequency\"].value_counts()\n",
    "display(frequency_counts)\n",
    "\n",
    "# plt.stem(frequency_counts.index, frequency_counts.values)\n",
    "# plt.show()"
   ]
  },
  {
   "cell_type": "code",
   "execution_count": null,
   "id": "920f4d1e",
   "metadata": {},
   "outputs": [],
   "source": []
  }
 ],
 "metadata": {
  "jupytext": {
   "cell_metadata_filter": "-all",
   "executable": "/usr/bin/env python",
   "main_language": "python",
   "notebook_metadata_filter": "-all"
  },
  "kernelspec": {
   "display_name": "Python 3 (ipykernel)",
   "language": "python",
   "name": "python3"
  },
  "language_info": {
   "codemirror_mode": {
    "name": "ipython",
    "version": 3
   },
   "file_extension": ".py",
   "mimetype": "text/x-python",
   "name": "python",
   "nbconvert_exporter": "python",
   "pygments_lexer": "ipython3",
   "version": "3.12.3"
  }
 },
 "nbformat": 4,
 "nbformat_minor": 5
}
