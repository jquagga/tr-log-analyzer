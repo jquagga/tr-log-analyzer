{
 "cells": [
  {
   "cell_type": "markdown",
   "id": "b01490cd",
   "metadata": {
    "lines_to_next_cell": 2
   },
   "source": [
    "# Trunk Recorder Log Analysis\n",
    "\n",
    "This notebook uses some regex to parse the trunk-recorder log file and create some statistics. The easiest way to use is to configure trunk-recorder to save logs and it will happily create a new logfile each day it is in service. While it is possible to use output from docker logs or copy from the console, in those cases you'd have to strip ANSI color codes from the output with the `asci2text` program in `colorized-logs`\n",
    "\n",
    "## Usage\n",
    "\n",
    "In general, gzip your logfile and copy your logfile over to this directory as \"tar.log.gz\". Or if you like, you can edit the `python logfile = logfile = gzip.open(\"tr.log.gz\", \"rt\")` in the code box immediately below.\n"
   ]
  },
  {
   "cell_type": "code",
   "execution_count": null,
   "id": "50f92ecd",
   "metadata": {},
   "outputs": [],
   "source": [
    "import datetime\n",
    "import gzip\n",
    "import re\n",
    "\n",
    "import pandas as pd\n",
    "\n",
    "logfile = gzip.open(\"tr.log.gz\", \"rt\")\n",
    "calldict = {}\n",
    "# Define the regex pattern for our log entries\n",
    "# line = \"[2024-05-09 12:31:45.009426] (info)   [pwcp25]\t126C\tTG:       1007 (            PWPD West 1)\tFreq: 851.962500 MHz\tConcluding Recorded Call - Last Update: 4s\tRecorder last write:4.72949\tCall Elapsed: 12\"\n",
    "log_pattern = r\".*\\[(\\S+\\s\\S+)\\]\\s+\\((\\S+)\\)\\s+\\[(\\S+)\\]\\s+(\\d+)\\S+\\s+\\S+\\s+(\\d+).*Freq:\\s+(\\d+\\.\\d+).*MHz\\s+(.*)\"\n",
    "# If you DO NOT have \"talkgroupDisplayFormat\": \"id_tag\" set, you can change the log_pattern to this below to grab the numeric\n",
    "# talkgroup numbers:\n",
    "# log_pattern = r\".*\\[(\\S+\\s\\S+)\\]\\s+\\((\\S+)\\)\\s+\\[(\\S+)\\]\\s+(\\d+)\\S+\\s+\\S+\\s+(\\d+).*Freq:\\s+(\\d+\\.\\d+).*MHz\\s+(.*)\"\n",
    "# And if you are using \"talkgroupDisplayFormat\": \"tag_id\", try this pattern:\n",
    "# log_pattern = r\".*\\[(\\S+\\s\\S+)\\]\\s+\\((\\S+)\\)\\s+\\[(\\S+)\\]\\s+(\\d+).*(\\d+).*Freq:\\s+(\\d+\\.\\d+).*MHz\\s+(.*)\"\n",
    "for line in logfile:\n",
    "    # line = \"2024-05-09T12:23:26.007469771Z [2024-05-09 12:23:26.005761] (info)   [pwcp25]\t16C\tTG:       2003 (                PWFD 5B)\tFreq: 851.725000 MHz\tConcluding Recorded Call - Last Update: 4s\tRecorder last write:4.79871\tCall Elapsed: 13\"\n",
    "    if match := re.match(log_pattern, line):\n",
    "        calldata = match[7]\n",
    "        # Technically this isn't a real unixtimestamp as it's not timezone aware,\n",
    "        # but we're just using it to create a unique index identifier.\n",
    "        calldate = datetime.datetime.strptime(match[1], \"%Y-%m-%d %H:%M:%S.%f\")\n",
    "        callts = calldate.timestamp()\n",
    "        # Index for the dict is timestamp(ish)-talkgroup\n",
    "        callindex = f\"{int(callts)}{int(match[5].strip())}\"\n",
    "\n",
    "        # Second round of regexp.  Now we are going to harvest data from calldata - the \"everything else\"\n",
    "        regexp_dict = {\n",
    "            \"excluded\": r\".*(Not recording talkgroup.).*\",\n",
    "            \"encrypted\": r\".*(Not Recording: ENCRYPTED).*\",\n",
    "            \"unknown_tg\": r\".*(TG not in Talkgroup File).*\",\n",
    "            \"no_source\": r\".*(no source covering Freq).*\",\n",
    "            \"standard\": r\".*Call Elapsed:\\s+(\\d+)\",\n",
    "        }\n",
    "        for callclass, data_pattern in regexp_dict.items():\n",
    "            if datamatch := re.match(data_pattern, calldata):\n",
    "                calldict[callindex] = {\"callclass\": callclass}\n",
    "                if callclass == \"standard\":\n",
    "                    calldict[callindex] = {\"duration\": int(datamatch[1])}\n",
    "                    # This log event happens at the end of a call, so we should adjust the calltime\n",
    "                    # back by duration seconds to get to the start.\n",
    "                    calldate = calldate + datetime.timedelta(seconds=-int(datamatch[1]))\n",
    "                calldict[callindex].update(\n",
    "                    {\n",
    "                        \"calldate\": calldate,\n",
    "                        \"loglevel\": str(match[2]),\n",
    "                        \"system\": str(match[3]),\n",
    "                        \"callnumber\": int(match[4]),\n",
    "                        \"talkgroup\": int(match[5].strip()),\n",
    "                        \"frequency\": float(match[6]),\n",
    "                    }\n",
    "                )\n",
    "logfile.close()\n",
    "\n",
    "calldf = pd.DataFrame.from_dict(calldict, orient=\"index\")\n",
    "# Technically this shouldn't be needed.  The dict construction _should_ set the class\n",
    "# but for some reason it skips setting standard.  It does set duration though so that part of\n",
    "# of the loop works.  This workaround sets the class to standard if there is a duration.\n",
    "calldf.loc[calldf[\"duration\"].notna(), \"callclass\"] = \"standard\"\n",
    "\n",
    "# We're going to use ChanList.csv if we have it to convert decimal talkgroups to their\n",
    "# Alpha Longform.  While this could be in the original log line, we do it here to take care\n",
    "# of logs which might not have that enabled AND it allows us to see the number value of \"unlisted\" tg.\n",
    "try:\n",
    "    chanlist = pd.read_csv(\"ChanList.csv\")\n",
    "    calldf = pd.merge(\n",
    "        left=calldf,\n",
    "        right=chanlist,\n",
    "        left_on=\"talkgroup\",\n",
    "        right_on=\"Decimal\",\n",
    "        how=\"left\",\n",
    "    )\n",
    "    # Talkgroup was an int for matching; now it becomes a string\n",
    "    calldf[[\"talkgroup\"]] = calldf[[\"talkgroup\"]].astype(\"str\")\n",
    "    # And now we merge in the Alpha Tag to talkgroups defined.  Undefined keep their\n",
    "    # numeric value\n",
    "    calldf.loc[calldf[\"Alpha Tag\"].notna(), \"talkgroup\"] = calldf[\"Alpha Tag\"]\n",
    "except Exception:\n",
    "    print(\"We couldn't open ChanList so talkgroups will remain numeric.\")\n",
    "# Finally, either way let's sort the columns in the dataframe and dump the extra columns\n",
    "# from the ChanList merge\n",
    "calldf = calldf.filter(\n",
    "    [\n",
    "        \"calldate\",\n",
    "        \"loglevel\",\n",
    "        \"system\",\n",
    "        \"callnumber\",\n",
    "        \"callclass\",\n",
    "        \"talkgroup\",\n",
    "        \"frequency\",\n",
    "        \"duration\",\n",
    "    ],\n",
    "    axis=1,\n",
    ")\n",
    "calldf.sort_values(by=\"calldate\", inplace=True)"
   ]
  },
  {
   "cell_type": "markdown",
   "id": "251002a0",
   "metadata": {},
   "source": [
    "This section is just the top of all of the data in the pandas dataframe so you get a sense of what is there and if it looks normal.\n"
   ]
  },
  {
   "cell_type": "code",
   "execution_count": null,
   "id": "33da2947-1e73-4b58-bf38-a79b5fe3264b",
   "metadata": {
    "jupyter": {
     "source_hidden": true
    }
   },
   "outputs": [],
   "source": [
    "import numpy as np\n",
    "import plotly.express as px\n",
    "\n",
    "pd.set_option(\"display.max_rows\", 999)\n",
    "pd.set_option(\"display.precision\", 5)\n",
    "display(calldf.head().style.hide(axis=\"index\"))"
   ]
  },
  {
   "cell_type": "markdown",
   "id": "5f1e8542",
   "metadata": {},
   "source": [
    "## Filtering the dataset\n",
    "\n",
    "Before we work with the data, this is a good place to filter some of the dataset. I'm going to remove any calls with a frequency of 0 (as is common when trunk-recorder first starts).\n"
   ]
  },
  {
   "cell_type": "code",
   "execution_count": null,
   "id": "96e21d63",
   "metadata": {},
   "outputs": [],
   "source": [
    "# Filter out the 0 frequency listings common when trunk-recorder first starts up.\n",
    "calldf = calldf[calldf[\"frequency\"] != 0]"
   ]
  },
  {
   "cell_type": "markdown",
   "id": "dd131f12",
   "metadata": {},
   "source": [
    "## Call Classes and high level statistics\n"
   ]
  },
  {
   "cell_type": "code",
   "execution_count": null,
   "id": "c990b9b6",
   "metadata": {
    "jupyter": {
     "source_hidden": true
    }
   },
   "outputs": [],
   "source": [
    "call_duration_count = calldf[\"duration\"].notnull().sum()\n",
    "average_call_duration = calldf[\"duration\"].mean()\n",
    "longest_call_duration = calldf[\"duration\"].max()\n",
    "average_call_duration = np.round(average_call_duration, 2)\n",
    "display(f\"The average call duration is: {average_call_duration} seconds\")\n",
    "display(f\"And the longest call was: {longest_call_duration} seconds\")"
   ]
  },
  {
   "cell_type": "code",
   "execution_count": null,
   "id": "18e0d43e-e4af-4673-ba99-4e493aa169c2",
   "metadata": {
    "jupyter": {
     "source_hidden": true
    }
   },
   "outputs": [],
   "source": [
    "total_call_count = calldf.shape[0]\n",
    "\n",
    "excludeddf = calldf[calldf[\"callclass\"] == \"excluded\"]\n",
    "excluded_call_count = excludeddf[\"callclass\"].shape[0]\n",
    "\n",
    "encrypteddf = calldf[calldf[\"callclass\"] == \"encrypted\"]\n",
    "encrypted_call_count = encrypteddf[\"callclass\"].shape[0]\n",
    "\n",
    "unknowndf = calldf[calldf[\"callclass\"] == \"unknown_tg\"]\n",
    "unknown_talkgroup_count = unknowndf[\"callclass\"].shape[0]\n",
    "\n",
    "nosourcedf = calldf[calldf[\"callclass\"] == \"no_source\"]\n",
    "no_source_count = nosourcedf[\"callclass\"].shape[0]\n",
    "\n",
    "standarddf = calldf[calldf[\"callclass\"] == \"standard\"]\n",
    "standard_count = standarddf[\"callclass\"].shape[0]\n",
    "\n",
    "# Graph time!\n",
    "callcounts = [\n",
    "    excluded_call_count,\n",
    "    encrypted_call_count,\n",
    "    unknown_talkgroup_count,\n",
    "    no_source_count,\n",
    "    standard_count,\n",
    "]\n",
    "callcategories = (\"Excluded\", \"Encrypted\", \"Unknown Talkgroup\", \"No Source\", \"Recorded\")\n",
    "\n",
    "px.bar(\n",
    "    x=callcategories,\n",
    "    y=callcounts,\n",
    "    color=callcategories,\n",
    "    color_discrete_sequence=px.colors.qualitative.G10,\n",
    "    labels={\"x\": \"Class of Call\", \"y\": \"Count of Calls\"},\n",
    "    text_auto=True,\n",
    ")"
   ]
  },
  {
   "cell_type": "markdown",
   "id": "534d39a7",
   "metadata": {},
   "source": [
    "# Frequency Statistics\n"
   ]
  },
  {
   "cell_type": "code",
   "execution_count": null,
   "id": "70dcf4a6-3dd6-4f38-b98f-c1cbedf0a1ad",
   "metadata": {
    "jupyter": {
     "source_hidden": true
    }
   },
   "outputs": [],
   "source": [
    "px.bar(\n",
    "    calldf[\"frequency\"].value_counts(),\n",
    "    color=calldf[\"frequency\"].value_counts().index.astype(str),\n",
    "    color_discrete_sequence=px.colors.qualitative.G10,\n",
    "    text_auto=True,\n",
    "    labels={\"frequency\": \"Frequency of Call\", \"value\": \"Count of Calls\"},\n",
    "    title=\"Frequencies Used\",\n",
    ")"
   ]
  },
  {
   "cell_type": "code",
   "execution_count": null,
   "id": "920f4d1e",
   "metadata": {
    "jupyter": {
     "source_hidden": true
    }
   },
   "outputs": [],
   "source": [
    "nosourcedf = calldf[calldf[\"callclass\"] == \"no_source\"]\n",
    "freqs = nosourcedf[\"frequency\"].unique()\n",
    "for i in freqs:\n",
    "    print(f\"There were reports of SDRs not able to cover {i} Mhz frequency.\")"
   ]
  },
  {
   "cell_type": "markdown",
   "id": "71ac9581",
   "metadata": {},
   "source": [
    "## Talkgroup Stats\n"
   ]
  },
  {
   "cell_type": "code",
   "execution_count": null,
   "id": "1bb3975a",
   "metadata": {
    "jupyter": {
     "source_hidden": true
    }
   },
   "outputs": [],
   "source": [
    "px.bar(\n",
    "    calldf[\"talkgroup\"].value_counts(),\n",
    "    color=calldf[\"talkgroup\"].value_counts().index.astype(str),\n",
    "    color_discrete_sequence=px.colors.qualitative.G10,\n",
    "    text_auto=True,\n",
    "    labels={\"talkgroup\": \"Talkgroup of Call\", \"value\": \"Count of Calls\"},\n",
    "    title=\"Talkgroups Used\",\n",
    ")"
   ]
  },
  {
   "cell_type": "code",
   "execution_count": null,
   "id": "4cf2c32a",
   "metadata": {
    "jupyter": {
     "source_hidden": true
    }
   },
   "outputs": [],
   "source": [
    "# Only the Calls we recorded\n",
    "recordeddf = calldf[calldf[\"callclass\"] == \"standard\"]\n",
    "\n",
    "px.bar(\n",
    "    recordeddf[\"talkgroup\"].value_counts(),\n",
    "    color=recordeddf[\"talkgroup\"].value_counts().index.astype(str),\n",
    "    color_discrete_sequence=px.colors.qualitative.G10,\n",
    "    text_auto=True,\n",
    "    labels={\"talkgroup\": \"Talkgroup of Recorded Call\", \"value\": \"Count of Calls\"},\n",
    "    title=\"Recorded Talkgroups Used\",\n",
    ")"
   ]
  },
  {
   "cell_type": "code",
   "execution_count": null,
   "id": "4c291421",
   "metadata": {
    "jupyter": {
     "source_hidden": true
    }
   },
   "outputs": [],
   "source": [
    "# Encrypted Calls Only\n",
    "encrypteddf = calldf[calldf[\"callclass\"] == \"encrypted\"]\n",
    "\n",
    "px.bar(\n",
    "    encrypteddf[\"talkgroup\"].value_counts(),\n",
    "    color=encrypteddf[\"talkgroup\"].value_counts().index.astype(str),\n",
    "    color_discrete_sequence=px.colors.qualitative.G10,\n",
    "    text_auto=True,\n",
    "    labels={\"talkgroup\": \"Talkgroup of Encrypted Call\", \"value\": \"Count of Calls\"},\n",
    "    title=\"Encrypted Talkgroups Used\",\n",
    ")"
   ]
  },
  {
   "cell_type": "code",
   "execution_count": null,
   "id": "927de805",
   "metadata": {
    "jupyter": {
     "source_hidden": true
    }
   },
   "outputs": [],
   "source": [
    "# Unknown Talkgroup Calls Only\n",
    "unknowndf = calldf[calldf[\"callclass\"] == \"unknown_tg\"]\n",
    "\n",
    "px.bar(\n",
    "    unknowndf[\"talkgroup\"].value_counts(),\n",
    "    color=unknowndf[\"talkgroup\"].value_counts().index.astype(str),\n",
    "    color_discrete_sequence=px.colors.qualitative.G10,\n",
    "    text_auto=True,\n",
    "    labels={\"talkgroup\": \"Unknown Talkgroup\", \"value\": \"Count of Calls\"},\n",
    "    title=\"Unknown Talkgroups\",\n",
    ")"
   ]
  }
 ],
 "metadata": {
  "jupytext": {
   "cell_metadata_filter": "-all",
   "executable": "/usr/bin/env python",
   "main_language": "python",
   "notebook_metadata_filter": "-all"
  },
  "kernelspec": {
   "display_name": "Python 3 (ipykernel)",
   "language": "python",
   "name": "python3"
  },
  "language_info": {
   "codemirror_mode": {
    "name": "ipython",
    "version": 3
   },
   "file_extension": ".py",
   "mimetype": "text/x-python",
   "name": "python",
   "nbconvert_exporter": "python",
   "pygments_lexer": "ipython3",
   "version": "3.12.3"
  }
 },
 "nbformat": 4,
 "nbformat_minor": 5
}
